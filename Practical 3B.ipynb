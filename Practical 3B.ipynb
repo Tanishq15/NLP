{
 "cells": [
  {
   "cell_type": "markdown",
   "id": "19cf422d",
   "metadata": {},
   "source": [
    "## Tanishq Keswani\n",
    "### Practical 3B\n",
    "\n",
    "#### AIM:-    Evaluate the test.txt data from conll2000 corpus after chunking(accuracy,precision,recall,f-measure)."
   ]
  },
  {
   "cell_type": "code",
   "execution_count": 1,
   "id": "ddce19ca",
   "metadata": {},
   "outputs": [],
   "source": [
    "import nltk\n",
    "import os\n",
    "import nltk.corpus"
   ]
  },
  {
   "cell_type": "code",
   "execution_count": 5,
   "id": "678bbdd6",
   "metadata": {},
   "outputs": [
    {
     "name": "stdout",
     "output_type": "stream",
     "text": [
      "[Tree('S', [Tree('NP', [('Confidence', 'NN')]), Tree('PP', [('in', 'IN')]), Tree('NP', [('the', 'DT'), ('pound', 'NN')]), Tree('VP', [('is', 'VBZ'), ('widely', 'RB'), ('expected', 'VBN'), ('to', 'TO'), ('take', 'VB')]), Tree('NP', [('another', 'DT'), ('sharp', 'JJ'), ('dive', 'NN')]), ('if', 'IN'), Tree('NP', [('trade', 'NN'), ('figures', 'NNS')]), Tree('PP', [('for', 'IN')]), Tree('NP', [('September', 'NNP')]), (',', ','), ('due', 'JJ'), Tree('PP', [('for', 'IN')]), Tree('NP', [('release', 'NN')]), Tree('NP', [('tomorrow', 'NN')]), (',', ','), Tree('VP', [('fail', 'VB'), ('to', 'TO'), ('show', 'VB')]), Tree('NP', [('a', 'DT'), ('substantial', 'JJ'), ('improvement', 'NN')]), Tree('PP', [('from', 'IN')]), Tree('NP', [('July', 'NNP'), ('and', 'CC'), ('August', 'NNP')]), Tree('NP', [(\"'s\", 'POS'), ('near-record', 'JJ'), ('deficits', 'NNS')]), ('.', '.')]), Tree('S', [('Chancellor', 'NNP'), Tree('PP', [('of', 'IN')]), Tree('NP', [('the', 'DT'), ('Exchequer', 'NNP')]), Tree('NP', [('Nigel', 'NNP'), ('Lawson', 'NNP')]), Tree('NP', [(\"'s\", 'POS'), ('restated', 'VBN'), ('commitment', 'NN')]), Tree('PP', [('to', 'TO')]), Tree('NP', [('a', 'DT'), ('firm', 'NN'), ('monetary', 'JJ'), ('policy', 'NN')]), Tree('VP', [('has', 'VBZ'), ('helped', 'VBN'), ('to', 'TO'), ('prevent', 'VB')]), Tree('NP', [('a', 'DT'), ('freefall', 'NN')]), Tree('PP', [('in', 'IN')]), Tree('NP', [('sterling', 'NN')]), Tree('PP', [('over', 'IN')]), Tree('NP', [('the', 'DT'), ('past', 'JJ'), ('week', 'NN')]), ('.', '.')]), ...]\n"
     ]
    }
   ],
   "source": [
    "from nltk.corpus import conll2000\n",
    "print (conll2000.chunked_sents('train.txt'))"
   ]
  },
  {
   "cell_type": "code",
   "execution_count": 6,
   "id": "7b9b72fb",
   "metadata": {},
   "outputs": [
    {
     "name": "stdout",
     "output_type": "stream",
     "text": [
      "[Tree('S', [Tree('NP', [('Rockwell', 'NNP'), ('International', 'NNP'), ('Corp.', 'NNP')]), Tree('NP', [(\"'s\", 'POS'), ('Tulsa', 'NNP'), ('unit', 'NN')]), Tree('VP', [('said', 'VBD')]), Tree('NP', [('it', 'PRP')]), Tree('VP', [('signed', 'VBD')]), Tree('NP', [('a', 'DT'), ('tentative', 'JJ'), ('agreement', 'NN')]), Tree('VP', [('extending', 'VBG')]), Tree('NP', [('its', 'PRP$'), ('contract', 'NN')]), Tree('PP', [('with', 'IN')]), Tree('NP', [('Boeing', 'NNP'), ('Co.', 'NNP')]), Tree('VP', [('to', 'TO'), ('provide', 'VB')]), Tree('NP', [('structural', 'JJ'), ('parts', 'NNS')]), Tree('PP', [('for', 'IN')]), Tree('NP', [('Boeing', 'NNP')]), Tree('NP', [(\"'s\", 'POS'), ('747', 'CD'), ('jetliners', 'NNS')]), ('.', '.')]), Tree('S', [Tree('NP', [('Rockwell', 'NNP')]), Tree('VP', [('said', 'VBD')]), Tree('NP', [('the', 'DT'), ('agreement', 'NN')]), Tree('VP', [('calls', 'VBZ')]), ('for', 'IN'), Tree('NP', [('it', 'PRP')]), Tree('VP', [('to', 'TO'), ('supply', 'VB')]), Tree('NP', [('200', 'CD'), ('additional', 'JJ'), ('so-called', 'JJ'), ('shipsets', 'NNS')]), Tree('PP', [('for', 'IN')]), Tree('NP', [('the', 'DT'), ('planes', 'NNS')]), ('.', '.')]), ...]\n"
     ]
    }
   ],
   "source": [
    "from nltk.corpus import conll2000\n",
    "print (conll2000.chunked_sents('test.txt'))"
   ]
  },
  {
   "cell_type": "code",
   "execution_count": 8,
   "id": "173cfcae",
   "metadata": {},
   "outputs": [
    {
     "name": "stdout",
     "output_type": "stream",
     "text": [
      "[Tree('S', [Tree('NP', [('Confidence', 'NN')]), ('in', 'IN'), Tree('NP', [('the', 'DT'), ('pound', 'NN')]), ('is', 'VBZ'), ('widely', 'RB'), ('expected', 'VBN'), ('to', 'TO'), ('take', 'VB'), Tree('NP', [('another', 'DT'), ('sharp', 'JJ'), ('dive', 'NN')]), ('if', 'IN'), Tree('NP', [('trade', 'NN'), ('figures', 'NNS')]), ('for', 'IN'), Tree('NP', [('September', 'NNP')]), (',', ','), ('due', 'JJ'), ('for', 'IN'), Tree('NP', [('release', 'NN')]), Tree('NP', [('tomorrow', 'NN')]), (',', ','), ('fail', 'VB'), ('to', 'TO'), ('show', 'VB'), Tree('NP', [('a', 'DT'), ('substantial', 'JJ'), ('improvement', 'NN')]), ('from', 'IN'), Tree('NP', [('July', 'NNP'), ('and', 'CC'), ('August', 'NNP')]), Tree('NP', [(\"'s\", 'POS'), ('near-record', 'JJ'), ('deficits', 'NNS')]), ('.', '.')]), Tree('S', [('Chancellor', 'NNP'), ('of', 'IN'), Tree('NP', [('the', 'DT'), ('Exchequer', 'NNP')]), Tree('NP', [('Nigel', 'NNP'), ('Lawson', 'NNP')]), Tree('NP', [(\"'s\", 'POS'), ('restated', 'VBN'), ('commitment', 'NN')]), ('to', 'TO'), Tree('NP', [('a', 'DT'), ('firm', 'NN'), ('monetary', 'JJ'), ('policy', 'NN')]), ('has', 'VBZ'), ('helped', 'VBN'), ('to', 'TO'), ('prevent', 'VB'), Tree('NP', [('a', 'DT'), ('freefall', 'NN')]), ('in', 'IN'), Tree('NP', [('sterling', 'NN')]), ('over', 'IN'), Tree('NP', [('the', 'DT'), ('past', 'JJ'), ('week', 'NN')]), ('.', '.')]), ...]\n"
     ]
    }
   ],
   "source": [
    "print (conll2000.chunked_sents('train.txt', chunk_types=['NP']))"
   ]
  },
  {
   "cell_type": "markdown",
   "id": "8bcc21c8",
   "metadata": {},
   "source": [
    "## Test.txt\n"
   ]
  },
  {
   "cell_type": "code",
   "execution_count": 13,
   "id": "0e38213a",
   "metadata": {},
   "outputs": [],
   "source": [
    "from nltk.corpus import conll2000\n",
    "cp = nltk.RegexpParser(\"\")\n",
    "test_sentss = conll2000.chunked_sents('test.txt')"
   ]
  },
  {
   "cell_type": "code",
   "execution_count": 14,
   "id": "a57bfac4",
   "metadata": {},
   "outputs": [
    {
     "name": "stdout",
     "output_type": "stream",
     "text": [
      "ChunkParse score:\n",
      "    IOB Accuracy:  33.1%%\n",
      "    Precision:     46.8%%\n",
      "    Recall:        14.6%%\n",
      "    F-Measure:     22.3%%\n"
     ]
    }
   ],
   "source": [
    "grammar =  \"\"\"\n",
    "    NP: {<NNP>*}\n",
    "        {<DT>?<JJ>?<NNS>}\n",
    "        {<NN><NN>}\"\"\"\n",
    "cp = nltk.RegexpParser(grammar)\n",
    "print (cp.evaluate(test_sentss))"
   ]
  },
  {
   "cell_type": "markdown",
   "id": "3e1394cb",
   "metadata": {},
   "source": [
    "## Train.txt"
   ]
  },
  {
   "cell_type": "code",
   "execution_count": 16,
   "id": "f0af0b90",
   "metadata": {},
   "outputs": [],
   "source": [
    "from nltk.corpus import conll2000\n",
    "cp = nltk.RegexpParser(\"\")\n",
    "test_sentss = conll2000.chunked_sents('train.txt')"
   ]
  },
  {
   "cell_type": "code",
   "execution_count": 17,
   "id": "02ae93d1",
   "metadata": {},
   "outputs": [
    {
     "name": "stdout",
     "output_type": "stream",
     "text": [
      "ChunkParse score:\n",
      "    IOB Accuracy:  32.7%%\n",
      "    Precision:     47.1%%\n",
      "    Recall:        14.0%%\n",
      "    F-Measure:     21.6%%\n"
     ]
    }
   ],
   "source": [
    "grammar =  \"\"\"\n",
    "    NP: {<NNP>*}\n",
    "        {<DT>?<JJ>?<NNS>}\n",
    "        {<NN><NN>}\"\"\"\n",
    "cp = nltk.RegexpParser(grammar)\n",
    "print (cp.evaluate(test_sentss))"
   ]
  },
  {
   "cell_type": "code",
   "execution_count": null,
   "id": "a4858e3b",
   "metadata": {},
   "outputs": [],
   "source": []
  }
 ],
 "metadata": {
  "kernelspec": {
   "display_name": "Python 3 (ipykernel)",
   "language": "python",
   "name": "python3"
  },
  "language_info": {
   "codemirror_mode": {
    "name": "ipython",
    "version": 3
   },
   "file_extension": ".py",
   "mimetype": "text/x-python",
   "name": "python",
   "nbconvert_exporter": "python",
   "pygments_lexer": "ipython3",
   "version": "3.9.7"
  }
 },
 "nbformat": 4,
 "nbformat_minor": 5
}
