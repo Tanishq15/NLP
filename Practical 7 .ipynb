{
 "cells": [
  {
   "cell_type": "markdown",
   "metadata": {},
   "source": [
    "## Tanishq Keswani\n",
    "### Practical 7"
   ]
  },
  {
   "cell_type": "markdown",
   "metadata": {},
   "source": [
    "#### AIM- To generate word embeddings Document Term Matrix for different chapters of brown corpus.\n",
    "#### (Take any text file from brown corpus and represent it in document term matrix form)"
   ]
  },
  {
   "cell_type": "code",
   "execution_count": 1,
   "metadata": {
    "id": "o5DSEufGBKyz"
   },
   "outputs": [],
   "source": [
    "from sklearn.feature_extraction.text import TfidfVectorizer "
   ]
  },
  {
   "cell_type": "code",
   "execution_count": 2,
   "metadata": {
    "id": "ATQcHlWaBM2T"
   },
   "outputs": [],
   "source": [
    "vectorizer = TfidfVectorizer(stop_words='english', smooth_idf=True) "
   ]
  },
  {
   "cell_type": "code",
   "execution_count": 3,
   "metadata": {
    "colab": {
     "base_uri": "https://localhost:8080/"
    },
    "id": "ZnpiJet7BNkK",
    "outputId": "d23b86aa-6aed-4a77-984e-5b88f526fa6e"
   },
   "outputs": [
    {
     "data": {
      "text/plain": [
       "{'It',\n",
       " 'age',\n",
       " 'best',\n",
       " 'foolishness,',\n",
       " 'it',\n",
       " 'of',\n",
       " 'the',\n",
       " 'times',\n",
       " 'was',\n",
       " 'wisdom',\n",
       " 'worst'}"
      ]
     },
     "execution_count": 3,
     "metadata": {},
     "output_type": "execute_result"
    }
   ],
   "source": [
    "text = \"\"\"It was the best of times it was the worst of times it was the age of wisdom it was the age of foolishness,\"\"\"\n",
    "\n",
    "text_vector = set(text.split(\" \"))\n",
    "\n",
    "text_vector"
   ]
  },
  {
   "cell_type": "code",
   "execution_count": 4,
   "metadata": {
    "colab": {
     "base_uri": "https://localhost:8080/"
    },
    "id": "QSJ3XpYuBRnj",
    "outputId": "fea67346-1734-4049-ef02-1d1f8791c086"
   },
   "outputs": [
    {
     "name": "stdout",
     "output_type": "stream",
     "text": [
      "  (0, 4)\t1.0\n",
      "  (1, 2)\t1.0\n",
      "  (2, 0)\t1.0\n",
      "  (5, 5)\t1.0\n",
      "  (9, 1)\t1.0\n",
      "  (10, 3)\t1.0\n"
     ]
    }
   ],
   "source": [
    "input_matrix = vectorizer.fit_transform(text_vector)\n",
    "print(input_matrix)"
   ]
  },
  {
   "cell_type": "code",
   "execution_count": 5,
   "metadata": {
    "colab": {
     "base_uri": "https://localhost:8080/"
    },
    "id": "M7Rndz-lBPm7",
    "outputId": "d97471e2-7fd8-4470-80fb-e1c94aef92ba",
    "scrolled": true
   },
   "outputs": [
    {
     "data": {
      "text/plain": [
       "matrix([[0., 0., 0., 0., 1., 0.],\n",
       "        [0., 0., 1., 0., 0., 0.],\n",
       "        [1., 0., 0., 0., 0., 0.],\n",
       "        [0., 0., 0., 0., 0., 0.],\n",
       "        [0., 0., 0., 0., 0., 0.],\n",
       "        [0., 0., 0., 0., 0., 1.],\n",
       "        [0., 0., 0., 0., 0., 0.],\n",
       "        [0., 0., 0., 0., 0., 0.],\n",
       "        [0., 0., 0., 0., 0., 0.],\n",
       "        [0., 1., 0., 0., 0., 0.],\n",
       "        [0., 0., 0., 1., 0., 0.]])"
      ]
     },
     "execution_count": 5,
     "metadata": {},
     "output_type": "execute_result"
    }
   ],
   "source": [
    "input_matrix = vectorizer.fit_transform(text_vector).todense()\n",
    "input_matrix"
   ]
  },
  {
   "cell_type": "code",
   "execution_count": 10,
   "metadata": {},
   "outputs": [
    {
     "data": {
      "text/plain": [
       "['ca01',\n",
       " 'ca02',\n",
       " 'ca03',\n",
       " 'ca04',\n",
       " 'ca05',\n",
       " 'ca06',\n",
       " 'ca07',\n",
       " 'ca08',\n",
       " 'ca09',\n",
       " 'ca10',\n",
       " 'ca11',\n",
       " 'ca12',\n",
       " 'ca13',\n",
       " 'ca14',\n",
       " 'ca15',\n",
       " 'ca16',\n",
       " 'ca17',\n",
       " 'ca18',\n",
       " 'ca19',\n",
       " 'ca20',\n",
       " 'ca21',\n",
       " 'ca22',\n",
       " 'ca23',\n",
       " 'ca24',\n",
       " 'ca25',\n",
       " 'ca26',\n",
       " 'ca27',\n",
       " 'ca28',\n",
       " 'ca29',\n",
       " 'ca30',\n",
       " 'ca31',\n",
       " 'ca32',\n",
       " 'ca33',\n",
       " 'ca34',\n",
       " 'ca35',\n",
       " 'ca36',\n",
       " 'ca37',\n",
       " 'ca38',\n",
       " 'ca39',\n",
       " 'ca40',\n",
       " 'ca41',\n",
       " 'ca42',\n",
       " 'ca43',\n",
       " 'ca44']"
      ]
     },
     "execution_count": 10,
     "metadata": {},
     "output_type": "execute_result"
    }
   ],
   "source": [
    "nltk.corpus.brown.fileids(categories='news')"
   ]
  },
  {
   "cell_type": "code",
   "execution_count": 7,
   "metadata": {},
   "outputs": [
    {
     "name": "stdout",
     "output_type": "stream",
     "text": [
      "Vocabulary: ['000', '10', '100', '11', '114', '119', '12', '13', '133', '13th', '14', '15', '150', '157', '17', '18', '180', '182', '18th', '1910', '1913', '1923', '1937', '1948', '1953', '1955', '1958', '1959', '1961', '1962', '1963', '1966', '20', '200', '21', '21st', '22', '23d', '24', '240', '24th', '25', '250', '28th', '29', '29th', '30', '300', '31', '31st', '33d', '35', '37', '402', '42d', '451', '460', '47', '4th', '50', '500', '540', '58th', '60', '62', '63', '637', '65', '677', '70', '700', '71', '74', '750', '800', '81', '87', '88', '90', '92', '9th', 'abandoned', 'abatuno', 'able', 'about', 'absence', 'absent', 'absolute', 'absolutely', 'absorbed', 'abuse', 'accept', 'acceptable', 'accepted', 'acclaimed', 'according', 'accounts', 'accredited', 'achieve', 'achievement', 'acquire', 'across', 'act', 'acting', 'action', 'actions', 'activity', 'acts', 'actually', 'ad', 'adamant', 'adc', 'add', 'added', 'addition', 'additional', 'address', 'adjournment', 'adjustments', 'administration', 'administrator', 'administrators', 'admitted', 'admitting', 'adopt', 'adopted', 'advance', 'advantage', 'adverse', 'advised', 'advisement', 'advisers', 'advisory', 'advocacy', 'affair', 'affairs', 'affected', 'affirmation', 'affixed', 'afford', 'africa', 'after', 'afternoon', 'again', 'against', 'age', 'aged', 'agency', 'aggression', 'ago', 'agreed', 'agriculture', 'aid', 'aided', 'aids', 'aikin', 'air', 'airport', 'aj', 'ala', 'alan', 'all', 'alleged', 'allen', 'alliance', 'allied', 'allies', 'allotted', 'allow', 'allowances', 'allowed', 'allowing', 'ally', 'almost', 'alone', 'along', 'alpharetta', 'already', 'also', 'alternative', 'altho', 'although', 'always', 'amateurish', 'ambiguous', 'ambitious', 'amended', 'amendment', 'america', 'american', 'americans', 'amicable', 'among', 'amount', 'amounts', 'an', 'analysis', 'and', 'angola', 'animated', 'announced', 'annual', 'anonymous', 'another', 'anticipated', 'antonio', 'any', 'anyone', 'apart', 'apparent', 'apparently', 'appear', 'appearing', 'application', 'apply', 'appoint', 'appointed', 'appointee', 'appointing', 'appointment', 'appointments', 'appraisers', 'appreciation', 'appropriation', 'approval', 'approve', 'approved', 'april', 'are', 'area', 'areas', 'argued', 'arises', 'arkansas', 'armed', 'arms', 'army', 'arose', 'around', 'arrest', 'arrests', 'as', 'asia', 'asian', 'aside', 'ask', 'asked', 'asking', 'asks', 'aspects', 'assailed', 'assemble', 'assembly', 'assertion', 'assign', 'assist', 'assistance', 'assistant', 'assisted', 'associate', 'association', 'assure', 'assured', 'at', 'athletic', 'atlanta', 'atlantic', 'atmosphere', 'atomic', 'attachment', 'attack', 'attacks', 'attempt', 'attend', 'attended', 'attending', 'attention', 'attorney', 'attorneys', 'atty', 'audience', 'aug', 'austin', 'authorities', 'authority', 'authorize', 'authorized', 'authorizing', 'automatically', 'automobile', 'available', 'average', 'avoided', 'awarding', 'awareness', 'ayes', 'bachelor', 'back', 'backed', 'balance', 'ballot', 'ban', 'bank', 'bankers', 'banks', 'bar', 'barber', 'base', 'based', 'basic', 'basis', 'basketball', 'battle', 'bay', 'be', 'bearing', 'beaumont', 'became', 'because', 'become', 'been', 'before', 'begin', 'behind', 'being', 'believe', 'believed', 'believes', 'bellows', 'bellwood', 'bench', 'benefit', 'benefits', 'berlin', 'berry', 'best', 'bet', 'better', 'betting', 'between', 'bexar', 'big', 'bill', 'billion', 'bills', 'biltmore', 'birth', 'bit', 'bitter', 'blended', 'bloc', 'blue', 'blunders', 'board', 'body', 'bond', 'bonds', 'books', 'boost', 'boosting', 'boosts', 'border', 'boston', 'both', 'bourcier', 'bowden', 'boy', 'brady', 'brandeis', 'breakdown', 'breakups', 'brief', 'brokers', 'brought', 'buchanan', 'budget', 'build', 'building', 'burden', 'bureau', 'burglary', 'bush', 'business', 'but', 'by', 'byrd', 'cabinet', 'caldwell', 'calendar', 'call', 'callan', 'called', 'calls', 'calmest', 'came', 'campaign', 'can', 'canada', 'candidate', 'candidates', 'candor', 'cannot', 'canvassers', 'capacity', 'cape', 'capital', 'capitol', 'captain', 'care', 'career', 'carey', 'carries', 'carry', 'cars', 'carson', 'case', 'cases', 'castro', 'caught', 'caused', 'causes', 'cd', 'cease', 'cent', 'central', 'centralized', 'certain', 'certainly', 'certificate', 'chain', 'chairman', 'chambers', 'chance', 'change', 'changed', 'changes', 'channels', 'chapman', 'charge', 'charged', 'charles', 'charter', 'check', 'chemistry', 'cheshire', 'chester', 'chief', 'child', 'children', 'choice', 'choose', 'church', 'circulation', 'circumstances', 'cited', 'cities', 'citizens', 'city', 'civil', 'claims', 'clarence', 'clark', 'clash', 'classes', 'clear', 'clearly', 'clements', 'clerical', 'clerk', 'client', 'climate', 'clinic', 'close', 'closer', 'club', 'co', 'coalition', 'coast', 'cod', 'coercion', 'college', 'collins', 'colonial', 'colonialist', 'color', 'colquitt', 'combating', 'combine', 'combined', 'come', 'comes', 'coming', 'commented', 'commerce', 'commission', 'commissioner', 'committee', 'committees', 'communist', 'communists', 'communities', 'community', 'companies', 'compelled', 'compensation', 'compete', 'complained', 'complementary', 'complete', 'completely', 'completes', 'completion', 'complication', 'composed', 'composition', 'compulsory', 'con', 'concentrate', 'concern', 'concerned', 'concessionaires', 'conciliatory', 'concluded', 'conditioned', 'conditions', 'conducted', 'conference', 'confessing', 'confidence', 'confirmed', 'conflict', 'confrontations', 'confronts', 'congress', 'congressional', 'congressmen', 'connection', 'consent', 'conservative', 'conservatives', 'consider', 'considerably', 'considering', 'consistently', 'conspicuous', 'constantly', 'constituted', 'constitution', 'constitutional', 'constructing', 'construction', 'constructive', 'construed', 'consultation', 'consulted', 'consulting', 'contempt', 'contended', 'contention', 'contingency', 'continue', 'continuous', 'contracts', 'contractual', 'contributions', 'control', 'controversy', 'conventional', 'cook', 'coolest', 'cooperation', 'coordinate', 'coordinating', 'coordinator', 'cope', 'coping', 'copy', 'core', 'cornerstone', 'corporations', 'corps', 'correct', 'correctness', 'correspondent', 'correspondents', 'cost', 'costly', 'costs', 'cotten', 'could', 'couldn', 'council', 'counsel', 'counseling', 'count', 'counties', 'countries', 'country', 'county', 'couple', 'courses', 'court', 'courteous', 'courtroom', 'courts', 'cover', 'covered', 'cox', 'creation', 'credit', 'crime', 'criminal', 'crisis', 'critical', 'criticisms', 'criticized', 'critics', 'crowd', 'cruelty', 'crump', 'cuba', 'cuban', 'culminating', 'current', 'customary', 'customers', 'cut', 'daily', 'dallas', 'danger', 'daniel', 'date', 'dating', 'daughter', 'david', 'davis', 'day', 'days', 'de', 'deaf', 'deal', 'dealing', 'dean', 'death', 'debate', 'decided', 'decisions', 'declared', 'declares', 'decrease', 'deductible', 'deeper', 'deeply', 'defeated', 'defendants', 'defenders', 'defense', 'deficit', 'defray', 'degree', 'delay', 'delegation', 'delinquency', 'deliver', 'demand', 'demands', 'democratic', 'denied', 'dental', 'dentistry', 'denton', 'department', 'departments', 'depend', 'dependency', 'dependent', 'depositors', 'deputies', 'deputy', 'described', 'desertion', 'deserves', 'designed', 'despite', 'destroy', 'detach', 'detailed', 'details', 'detente', 'determination', 'determine', 'determined', 'deterrent', 'detroit', 'developed', 'development', 'devote', 'dewey', 'diagnostic', 'did', 'didn', 'difference', 'different', 'difficult', 'difficulties', 'diplomat', 'diplomatic', 'direct', 'directed', 'direction', 'directions', 'director', 'dirksen', 'disable', 'disagreed', 'disappointment', 'disapprove', 'discharge', 'discharging', 'disclosed', 'disclosure', 'discourage', 'discrimination', 'discussed', 'discussions', 'dismiss', 'dismissed', 'displayed', 'disposal', 'disposition', 'disproportionate', 'dispute', 'dissent', 'dissents', 'distance', 'distribute', 'distribution', 'district', 'districts', 'disturbing', 'dividing', 'divorce', 'do', 'docile', 'doctor', 'doctors', 'does', 'doing', 'dollar', 'dollars', 'domain', 'dominated', 'domination', 'donations', 'done', 'dorsey', 'doubled', 'doubling', 'doubt', 'down', 'dr', 'draft', 'drafted', 'drafts', 'drain', 'dramatic', 'drifts', 'drive', 'drop', 'dumas', 'during', 'durwood', 'duty', 'each', 'earlier', 'earliest', 'early', 'earned', 'east', 'economic', 'economy', 'education', 'educational', 'educators', 'effect', 'effected', 'effective', 'effectively', 'efficiency', 'effort', 'efforts', 'eight', 'eisenhower', 'el', 'elaborate', 'elected', 'election', 'elections', 'element', 'elements', 'eligible', 'eligio', 'eliminate', 'eliminating', 'else', 'emerge', 'eminent', 'emotionally', 'emphasis', 'emphasizing', 'employed', 'employer', 'employes', 'employment', 'enabling', 'enact', 'enacted', 'enactment', 'encourage', 'encouragement', 'encouraging', 'end', 'ended', 'endorse', 'enemy', 'energy', 'enforce', 'enforced', 'enforcement', 'enforcing', 'engaged', 'english', 'enlarge', 'enlarged', 'enlarging', 'enough', 'entail', 'enter', 'entering', 'enterprise', 'enthusiasm', 'enthusiastic', 'entirely', 'enunciate', 'equal', 'equipment', 'equitable', 'erase', 'erred', 'errors', 'erupts', 'escheat', 'especially', 'essence', 'essential', 'establish', 'establishing', 'establishment', 'estate', 'estimate', 'estimated', 'european', 'even', 'event', 'events', 'eventually', 'ever', 'every', 'everything', 'evidence', 'ex', 'exacerbated', 'exact', 'examine', 'except', 'exception', 'excess', 'excise', 'excuses', 'executive', 'exile', 'existing', 'expand', 'expect', 'expected', 'expects', 'expended', 'expense', 'experienced', 'experimental', 'expert', 'expires', 'explain', 'explained', 'explanation', 'exploratory', 'explosion', 'exposed', 'expressed', 'extended', 'extending', 'extension', 'extern', 'extraordinary', 'extremely', 'eye', 'face', 'faced', 'faces', 'facilities', 'facing', 'fact', 'facto', 'factor', 'factory', 'fails', 'failure', 'fair', 'falls', 'false', 'family', 'far', 'fare', 'farms', 'faster', 'fate', 'favor', 'favorable', 'favoring', 'favors', 'feared', 'fears', 'featured', 'feb', 'federal', 'fee', 'feeds', 'feel', 'feels', 'fees', 'felix', 'fellow', 'felt', 'few', 'fewer', 'fiasco', 'field', 'fifty', 'fight', 'fighting', 'figures', 'filed', 'fill', 'final', 'finally', 'finance', 'financed', 'financial', 'find', 'fine', 'fines', 'fire', 'firm', 'firmer', 'firmly', 'firms', 'first', 'fiscal', 'fit', 'five', 'fixed', 'fleet', 'floor', 'folks', 'follow', 'followed', 'following', 'foods', 'football', 'for', 'force', 'forced', 'forces', 'foreign', 'form', 'formally', 'formative', 'formby', 'former', 'formula', 'fort', 'fortin', 'foster', 'fought', 'found', 'four', 'fourth', 'frame', 'frank', 'franker', 'free', 'freedom', 'freer', 'freeze', 'frequently', 'friction', 'friday', 'friendly', 'from', 'fulbright', 'fulfilled', 'full', 'fully', 'fulton', 'function', 'fund', 'fundamentally', 'funds', 'further', 'future', 'gain', 'gainesville', 'gaining', 'gallup', 'galveston', 'gambler', 'garland', 'garza', 'gas', 'gave', 'gaynor', 'gen', 'general', 'generally', 'geneva', 'genuine', 'geographical', 'george', 'georgia', 'gesture', 'get', 'getting', 'gift', 'gifts', 'give', 'given', 'global', 'globe', 'go', 'goal', 'goes', 'going', 'goldberg', 'good', 'gop', 'got', 'gotten', 'gov', 'government', 'governments', 'governor', 'governs', 'gradually', 'grady', 'grand', 'grant', 'granted', 'grants', 'great', 'greater', 'greatest', 'griffin', 'grocery', 'grooming', 'gross', 'ground', 'grounds', 'group', 'groups', 'grover', 'growth', 'guaranteed', 'guardians', 'gubernatorial', 'guilt', 'guilty', 'gulf', 'gun', 'hackett', 'had', 'hailed', 'half', 'halleck', 'haltingly', 'hamlet', 'hand', 'handed', 'handful', 'handle', 'handled', 'handling', 'happens', 'hard', 'hardly', 'harlingen', 'harris', 'harry', 'harsh', 'hartsfield', 'harvard', 'has', 'hastened', 'hastily', 'have', 'having', 'hawksley', 'hays', 'he', 'head', 'headquarters', 'health', 'hear', 'heard', 'hearing', 'hearings', 'heart', 'heavily', 'heavy', 'held', 'help', 'helped', 'henry', 'here', 'hesitated', 'high', 'higher', 'highly', 'highway', 'highways', 'hill', 'hilt', 'him', 'himself', 'hire', 'his', 'history', 'hoc', 'hold', 'holds', 'hollowell', 'home', 'homes', 'honor', 'hope', 'hoped', 'hopes', 'hopper', 'horse', 'hospital', 'hospitals', 'hot', 'hotel', 'hour', 'hours', 'house', 'housing', 'houston', 'how', 'howard', 'however', 'hudson', 'huge', 'hughes', 'hundred', 'hurdle', 'hyannis', 'idea', 'ideas', 'if', 'ignored', 'ill', 'illegal', 'illegitimacy', 'illness', 'immediate', 'immediately', 'impair', 'impetus', 'implementation', 'important', 'imposed', 'impossible', 'impression', 'improve', 'improving', 'in', 'inadequate', 'inclination', 'included', 'including', 'inconclusive', 'incorporated', 'increase', 'increased', 'increases', 'increasing', 'ind', 'independent', 'indicated', 'indicating', 'indispensable', 'individual', 'individuals', 'industrial', 'influences', 'information', 'informed', 'initial', 'innocence', 'inquired', 'inside', 'insist', 'insisted', 'inspection', 'inspiring', 'instances', 'instead', 'institute', 'instructor', 'insurance', 'insure', 'insurgent', 'intellectually', 'intelligent', 'intends', 'interest', 'interested', 'interim', 'interlude', 'intern', 'international', 'intervals', 'intervention', 'intimidation', 'into', 'introduced', 'inure', 'invasion', 'investigate', 'investigation', 'involved', 'involving', 'irregularities', 'is', 'island', 'issuance', 'issue', 'issued', 'it', 'item', 'items', 'its', 'itself', 'ivan', 'jackson', 'jail', 'james', 'jan', 'job', 'joe', 'john', 'johnston', 'joined', 'jones', 'joseph', 'jr', 'judge', 'judges', 'july', 'junior', 'juries', 'jurors', 'jury', 'just', 'justice', 'justices', 'juvenile', 'kan', 'karns', 'keeping', 'kennedy', 'kentucky', 'kept', 'keynote', 'kika', 'kill', 'kind', 'knew', 'know', 'knowing', 'knowledge', 'known', 'kremlin', 'la', 'labor', 'lack', 'lacking', 'laid', 'lamar', 'lao', 'laos', 'larceny', 'large', 'largest', 'last', 'later', 'latest', 'latin', 'laughlin', 'law', 'lawrence', 'laws', 'lawyer', 'leader', 'leadership', 'leading', 'league', 'leaned', 'learn', 'learned', 'learning', 'least', 'led', 'ledford', 'left', 'legal', 'legislation', 'legislative', 'legislator', 'legislators', 'legislature', 'legislatures', 'less', 'let', 'letter', 'letterman', 'letters', 'level', 'lever', 'levy', 'liberals', 'license', 'licenses', 'licensing', 'lieutenant', 'like', 'likely', 'limit', 'limited', 'line', 'lines', 'liquor', 'list', 'listed', 'listen', 'little', 'live', 'lived', 'livelihood', 'living', 'load', 'loan', 'local', 'locally', 'locate', 'locomotive', 'long', 'looked', 'losses', 'lost', 'louis', 'lt', 'luncheon', 'mac', 'machinist', 'made', 'main', 'mainly', 'maintenance', 'major', 'majorities', 'make', 'making', 'malingering', 'mammoth', 'man', 'management', 'manifestations', 'manner', 'manufacturers', 'many', 'march', 'marked', 'married', 'marshall', 'martin', 'martinelli', 'marvin', 'mary', 'mass', 'massachusetts', 'master', 'matching', 'math', 'matter', 'matters', 'maximum', 'may', 'mayer', 'mayor', 'mclemore', 'me', 'meager', 'mean', 'meaning', 'means', 'meantime', 'meanwhile', 'measure', 'medical', 'medicine', 'meet', 'meeting', 'meetings', 'member', 'members', 'men', 'mental', 'mentally', 'mention', 'merchandise', 'merely', 'merger', 'message', 'met', 'method', 'methods', 'michael', 'midmorning', 'midnight', 'might', 'mighty', 'military', 'miller', 'million', 'millions', 'mind', 'ministers', 'minor', 'minute', 'miscellaneous', 'miscount', 'miss', 'missing', 'mission', 'misunderstanding', 'misuse', 'model', 'modernizing', 'modest', 'modifications', 'modified', 'monday', 'money', 'monthly', 'months', 'monumental', 'mood', 'more', 'moreover', 'morris', 'morse', 'morton', 'most', 'mostly', 'motorists', 'move', 'movement', 'moves', 'moving', 'mr', 'mrs', 'much', 'multi', 'multiply', 'municipal', 'must', 'mutual', 'my', 'nam', 'name', 'named', 'names', 'narragansett', 'nation', 'national', 'nationalism', 'nationally', 'nations', 'nationwide', 'nato', 'natural', 'nature', 'naval', 'navigation', 'near', 'need', 'needed', 'needs', 'needy', 'negative', 'negotiations', 'negro', 'neighborhood', 'neighboring', 'neighbors', 'neither', 'neutral', 'neutralist', 'neutralized', 'never', 'nevertheless', 'new', 'newly', 'newton', 'next', 'night', 'nightmare', 'nine', 'nixon', 'no', 'noes', 'nominate', 'non', 'none', 'normal', 'north', 'northernmost', 'norway', 'not', 'notarized', 'noted', 'nothing', 'notice', 'noticeable', 'noting', 'notte', 'nov', 'november', 'now', 'nuclear', 'nugent', 'number', 'nurse', 'nursing', 'obligations', 'observer', 'observers', 'obtain', 'obtained', 'obtaining', 'occupation', 'october', 'of', 'off', 'offenders', 'offense', 'offenses', 'offer', 'offered', 'office', 'officers', 'offices', 'official', 'officials', 'often', 'okla', 'oklahoma', 'old', 'older', 'on', 'once', 'one', 'ones', 'only', 'opelika', 'opened', 'operate', 'operated', 'operating', 'operation', 'opinion', 'opinions', 'opponents', 'oppose', 'opposed', 'opposes', 'opposition', 'optimism', 'option', 'or', 'order', 'orderly', 'ordinance', 'ordinary', 'ore', 'organization', 'organize', 'original', 'originally', 'oslo', 'other', 'others', 'our', 'out', 'outcome', 'outgoing', 'outlay', 'outlays', 'outlets', 'outline', 'outmoded', 'outpatient', 'outright', 'outside', 'over', 'overcrowding', 'owen', 'own', 'paid', 'paradise', 'parents', 'parimutuels', 'paris', 'parkhouse', 'parsons', 'part', 'participating', 'particularly', 'parties', 'partisan', 'parts', 'party', 'paso', 'pass', 'passage', 'passed', 'passing', 'past', 'pathet', 'patient', 'patrolman', 'pay', 'paying', 'payment', 'payroll', 'peanut', 'pearl', 'pelham', 'penalty', 'pending', 'pension', 'people', 'per', 'perform', 'performing', 'perhaps', 'period', 'periodic', 'permit', 'permits', 'permitted', 'permitting', 'person', 'personal', 'personally', 'personnel', 'persons', 'persuade', 'pertained', 'pertinent', 'petition', 'petitions', 'philosophy', 'phone', 'phouma', 'physics', 'picking', 'pierre', 'pin', 'pipeline', 'pirie', 'pistol', 'place', 'placed', 'places', 'placing', 'plainview', 'plan', 'planning', 'plans', 'platform', 'plead', 'pleads', 'plus', 'pockets', 'point', 'pointed', 'points', 'police', 'policeman', 'policemen', 'policies', 'policy', 'political', 'politics', 'poll', 'polls', 'ponies', 'pooling', 'poor', 'popularity', 'population', 'populous', 'port', 'portion', 'portions', 'portugal', 'positions', 'positive', 'possibility', 'possible', 'post', 'posts', 'power', 'powers', 'practices', 'praise', 'praised', 'precedent', 'precinct', 'precincts', 'precipitated', 'prediction', 'prefer', 'prejudicial', 'prelude', 'preoccupied', 'prepared', 'prepayment', 'present', 'presented', 'presentments', 'preserving', 'president', 'presidential', 'press', 'pressure', 'pretenses', 'prevent', 'prevention', 'previous', 'previously', 'price', 'prices', 'pricing', 'pricking', 'primary', 'prince', 'principal', 'principals', 'printed', 'priority', 'prison', 'privately', 'privilege', 'pro', 'probably', 'problem', 'problems', 'procedure', 'procedures', 'proceed', 'proceedings', 'process', 'processes', 'procurement', 'produce', 'produced', 'product', 'professor', 'professors', 'profit', 'profound', 'program', 'programs', 'project', 'projects', 'promise', 'promised', 'property', 'proportionate', 'proposal', 'proposals', 'propose', 'proposed', 'prosecute', 'prosecution', 'prosecutor', 'protect', 'protected', 'protests', 'prove', 'provide', 'provided', 'providence', 'providing', 'provision', 'provocation', 'public', 'pull', 'purchasing', 'purpose', 'pushed', 'put', 'pye', 'qualified', 'quarrel', 'question', 'questioned', 'questioning', 'questions', 'quickie', 'quickly', 'quiet', 'quite', 'race', 'racial', 'radio', 'radios', 'railroad', 'raised', 'raises', 'raising', 'rally', 'range', 'rank', 'rapid', 'ratcliff', 'rate', 'rather', 'ratified', 'rayburn', 'raymond', 'raymondville', 'rd', 're', 'react', 'reaction', 'read', 'reading', 'ready', 'real', 'realization', 'realize', 'really', 'reama', 'reasonable', 'receive', 'received', 'receives', 'receiving', 'recent', 'recipient', 'recipients', 'recognized', 'recommend', 'recommendation', 'recommendations', 'recommended', 'recommends', 'reconsideration', 'reconstruction', 'record', 'red', 'reduce', 'reduced', 'reducing', 'reelection', 'referendum', 'referred', 'reform', 'reforms', 'regard', 'regarding', 'regents', 'regime', 'registered', 'registration', 'regrouping', 'regular', 'regulating', 'rehabilitation', 'reiterated', 'rejected', 'rejection', 'rekindling', 'relations', 'relative', 'relatively', 'relatives', 'relaxation', 'released', 'relieve', 'religious', 'relinquish', 'remainder', 'remarkably', 'remedy', 'removal', 'remove', 'rep', 'repair', 'repealed', 'repeated', 'repeatedly', 'replied', 'reply', 'report', 'reported', 'reportedly', 'reports', 'representatives', 'representing', 'reps', 'republic', 'republican', 'republicans', 'request', 'requesting', 'requests', 'require', 'required', 'requirement', 'requirements', 'requiring', 'rescind', 'rescue', 'research', 'reservoirs', 'residential', 'residents', 'resignation', 'resigned', 'resolution', 'resources', 'respected', 'responding', 'response', 'responses', 'responsibility', 'responsible', 'restrain', 'restrained', 'result', 'resumption', 'retailers', 'retained', 'retarded', 'retire', 'retired', 'retirement', 'return', 'returned', 'revamped', 'revenue', 'review', 'reviewed', 'revised', 'revision', 'revisions', 'revolt', 'revolving', 'rhode', 'ribbon', 'richard', 'ridge', 'right', 'rights', 'rise', 'rising', 'risk', 'riverside', 'road', 'roads', 'rob', 'robert', 'roberts', 'room', 'rotary', 'route', 'royal', 'rule', 'ruled', 'rules', 'ruling', 'rumford', 'rumored', 'run', 'running', 'rural', 'rusk', 'russia', 'saba', 'sabbath', 'said', 'sailing', 'salary', 'sales', 'salinger', 'sam', 'san', 'sanantonio', 'sanitary', 'saturday', 'savannah', 'saving', 'savings', 'saw', 'say', 'says', 'scale', 'scattered', 'scheduled', 'scheduling', 'schley', 'scholarship', 'scholarships', 'scholastic', 'scholastics', 'school', 'schooling', 'schools', 'schwartz', 'science', 'score', 'scott', 'screw', 'seato', 'secretary', 'section', 'security', 'see', 'seek', 'seekonk', 'seemed', 'seen', 'selected', 'selections', 'semester', 'seminole', 'semipublic', 'sen', 'senate', 'senator', 'senators', 'sending', 'senior', 'sense', 'sent', 'separate', 'sept', 'september', 'series', 'serious', 'servants', 'serve', 'served', 'service', 'services', 'serving', 'session', 'sessions', 'set', 'setback', 'setbacks', 'setting', 'settlement', 'setup', 'seven', 'several', 'severely', 'sewer', 'sheet', 'sheraton', 'sheriff', 'sherman', 'shipped', 'shirking', 'shopping', 'shops', 'shortly', 'shot', 'should', 'shouting', 'show', 'showing', 'side', 'sign', 'signal', 'signatures', 'signers', 'significance', 'similar', 'simplest', 'simultaneously', 'since', 'sirens', 'site', 'sites', 'sitting', 'situation', 'six', 'sixth', 'size', 'skills', 'sledding', 'small', 'smell', 'smooth', 'snodgrass', 'so', 'soaring', 'social', 'socialist', 'socialized', 'societies', 'sold', 'solemnly', 'solicitor', 'solve', 'some', 'something', 'somewhat', 'son', 'soon', 'sought', 'sound', 'sounded', 'source', 'south', 'southeast', 'southwestern', 'souvanna', 'soviet', 'sp', 'spark', 'speaker', 'speaking', 'spearhead', 'special', 'specific', 'specifically', 'specified', 'speech', 'speeches', 'speed', 'spent', 'spirit', 'spokesman', 'spokesmen', 'sponsor', 'sponsored', 'spots', 'spring', 'springs', 'squeeze', 'sr', 'st', 'staff', 'staggered', 'stake', 'stand', 'started', 'starting', 'startled', 'starts', 'state', 'statement', 'statements', 'states', 'station', 'status', 'statutes', 'stay', 'stays', 'steamed', 'steered', 'stems', 'step', 'steps', 'still', 'stimulatory', 'stocks', 'stolen', 'stood', 'storage', 'stores', 'strategy', 'strengthening', 'strenuous', 'strickland', 'strong', 'strongly', 'student', 'students', 'studied', 'study', 'subcommittee', 'subject', 'subjected', 'subjects', 'submarines', 'subpenaed', 'subpenas', 'subpoenas', 'subsistence', 'succeed', 'succeeded', 'such', 'sufficient', 'suggested', 'suggestion', 'suit', 'suited', 'sulphur', 'sum', 'summer', 'summerdale', 'sunday', 'superintendent', 'superior', 'supermarkets', 'support', 'supported', 'supreme', 'supt', 'surprised', 'surprises', 'surveillance', 'surveyed', 'susceptible', 'sway', 'swipe', 'system', 'systems', 'tabb', 'table', 'tactical', 'take', 'taken', 'takes', 'taking', 'talked', 'tarrant', 'taunted', 'tax', 'taxation', 'taxes', 'taxpayers', 'tea', 'teach', 'teacher', 'teachers', 'teaches', 'teaching', 'team', 'technical', 'technology', 'telephone', 'television', 'tell', 'tendency', 'tenor', 'tension', 'tentative', 'term', 'termed', 'territory', 'test', 'tex', 'texan', 'texans', 'texas', 'text', 'thailand', 'than', 'thanks', 'that', 'the', 'theater', 'their', 'them', 'themselves', 'then', 'there', 'these', 'they', 'thing', 'things', 'think', 'thinks', 'third', 'thirds', 'this', 'those', 'thousands', 'threats', 'three', 'threshold', 'through', 'thru', 'thruston', 'thursday', 'thus', 'tied', 'time', 'timely', 'times', 'timetable', 'title', 'to', 'today', 'together', 'told', 'tolerated', 'tom', 'tomorrow', 'tonight', 'too', 'took', 'toolmaker', 'top', 'topics', 'tossed', 'totaling', 'totalitarian', 'tougher', 'toward', 'tower', 'town', 'track', 'trade', 'traditional', 'traffic', 'tragedies', 'transferred', 'traveled', 'treasurer', 'treated', 'treaty', 'tremendous', 'trend', 'trial', 'trouble', 'troubles', 'trucks', 'true', 'trusting', 'tuesday', 'turned', 'two', 'tyler', 'type', 'types', 'un', 'unable', 'unanimous', 'unanimously', 'unchanged', 'unconstitutional', 'under', 'underdeveloped', 'underground', 'underlying', 'undermine', 'understanding', 'understates', 'undoubtedly', 'undue', 'unfair', 'union', 'unit', 'united', 'unity', 'university', 'unlike', 'unmeritorious', 'unnecessary', 'unspecified', 'until', 'up', 'upon', 'urban', 'urged', 'urgency', 'urges', 'us', 'use', 'used', 'useless', 'utilities', 'utility', 'vacancies', 'vagueness', 'validated', 'validity', 'vandiver', 'variety', 'various', 'vehicle', 'veiled', 'verification', 'very', 'veteran', 'vice', 'victories', 'victory', 'viet', 'viewed', 'views', 'vindication', 'violate', 'violation', 'violence', 'virgil', 'visit', 'visiting', 'vital', 'vitality', 'vocational', 'voiced', 'volume', 'voluntary', 'vote', 'voted', 'voter', 'voters', 'votes', 'voting', 'wage', 'wait', 'walk', 'want', 'wanted', 'war', 'ward', 'wards', 'warned', 'warning', 'was', 'washington', 'wasn', 'water', 'watered', 'waters', 'way', 'wayne', 'we', 'weatherford', 'weaver', 'wednesday', 'week', 'weekend', 'weeks', 'welfare', 'well', 'went', 'were', 'wesley', 'west', 'western', 'wexler', 'what', 'when', 'where', 'whereby', 'wherever', 'whether', 'which', 'while', 'whipped', 'white', 'who', 'whole', 'whom', 'why', 'wide', 'wider', 'widespread', 'wife', 'will', 'william', 'williams', 'willing', 'wind', 'wisdom', 'wise', 'wish', 'with', 'within', 'without', 'witnesses', 'woman', 'won', 'word', 'wording', 'work', 'worked', 'worker', 'workers', 'working', 'world', 'worth', 'would', 'wouldn', 'writing', 'wrongful', 'wrote', 'year', 'yearly', 'years', 'yes', 'yesterday', 'yet', 'york', 'you', 'young', 'your', 'youth']\n"
     ]
    }
   ],
   "source": [
    "import nltk\n",
    "from nltk.corpus import brown\n",
    "from sklearn.feature_extraction.text import CountVectorizer\n",
    "\n",
    "fileids = brown.fileids(categories='news')[:5]\n",
    "chapters = [brown.words(fileid) for fileid in fileids]\n",
    "\n",
    "chapter_strings = [' '.join(chapter) for chapter in chapters]\n",
    "\n",
    "vectorizer = CountVectorizer()\n",
    "doc_term_matrix = vectorizer.fit_transform(chapter_strings)\n",
    "\n",
    "print('Vocabulary:', vectorizer.get_feature_names())"
   ]
  },
  {
   "cell_type": "code",
   "execution_count": 8,
   "metadata": {},
   "outputs": [
    {
     "name": "stdout",
     "output_type": "stream",
     "text": [
      "Document-Term Matrix:\n",
      "[[0 1 1 ... 0 0 0]\n",
      " [9 1 1 ... 0 0 0]\n",
      " [3 7 0 ... 1 1 0]\n",
      " [0 0 0 ... 0 0 1]\n",
      " [0 2 0 ... 1 0 0]]\n"
     ]
    }
   ],
   "source": [
    "print('Document-Term Matrix:')\n",
    "print(doc_term_matrix.toarray())"
   ]
  },
  {
   "cell_type": "code",
   "execution_count": null,
   "metadata": {},
   "outputs": [],
   "source": []
  }
 ],
 "metadata": {
  "colab": {
   "provenance": []
  },
  "kernelspec": {
   "display_name": "Python 3 (ipykernel)",
   "language": "python",
   "name": "python3"
  },
  "language_info": {
   "codemirror_mode": {
    "name": "ipython",
    "version": 3
   },
   "file_extension": ".py",
   "mimetype": "text/x-python",
   "name": "python",
   "nbconvert_exporter": "python",
   "pygments_lexer": "ipython3",
   "version": "3.9.7"
  }
 },
 "nbformat": 4,
 "nbformat_minor": 1
}
